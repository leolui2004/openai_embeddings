{
  "nbformat": 4,
  "nbformat_minor": 0,
  "metadata": {
    "colab": {
      "provenance": []
    },
    "kernelspec": {
      "name": "python3",
      "display_name": "Python 3"
    },
    "language_info": {
      "name": "python"
    }
  },
  "cells": [
    {
      "cell_type": "code",
      "source": [
        "!pip install openai"
      ],
      "metadata": {
        "colab": {
          "base_uri": "https://localhost:8080/"
        },
        "id": "igd3sLR-Vr9L",
        "outputId": "a6a2bd74-1cb9-4322-f0b0-345728773431"
      },
      "execution_count": null,
      "outputs": [
        {
          "output_type": "stream",
          "name": "stdout",
          "text": [
            "Collecting openai\n",
            "  Downloading openai-1.12.0-py3-none-any.whl (226 kB)\n",
            "\u001b[?25l     \u001b[90m━━━━━━━━━━━━━━━━━━━━━━━━━━━━━━━━━━━━━━━━\u001b[0m \u001b[32m0.0/226.7 kB\u001b[0m \u001b[31m?\u001b[0m eta \u001b[36m-:--:--\u001b[0m\r\u001b[2K     \u001b[91m━━━━━━━━━━━━━━━━━━━━━━━━━━━━━━━━━━\u001b[0m\u001b[90m╺\u001b[0m\u001b[90m━━━━━\u001b[0m \u001b[32m194.6/226.7 kB\u001b[0m \u001b[31m5.7 MB/s\u001b[0m eta \u001b[36m0:00:01\u001b[0m\r\u001b[2K     \u001b[90m━━━━━━━━━━━━━━━━━━━━━━━━━━━━━━━━━━━━━━━━\u001b[0m \u001b[32m226.7/226.7 kB\u001b[0m \u001b[31m4.7 MB/s\u001b[0m eta \u001b[36m0:00:00\u001b[0m\n",
            "\u001b[?25hRequirement already satisfied: anyio<5,>=3.5.0 in /usr/local/lib/python3.10/dist-packages (from openai) (3.7.1)\n",
            "Requirement already satisfied: distro<2,>=1.7.0 in /usr/lib/python3/dist-packages (from openai) (1.7.0)\n",
            "Collecting httpx<1,>=0.23.0 (from openai)\n",
            "  Downloading httpx-0.27.0-py3-none-any.whl (75 kB)\n",
            "\u001b[2K     \u001b[90m━━━━━━━━━━━━━━━━━━━━━━━━━━━━━━━━━━━━━━━━\u001b[0m \u001b[32m75.6/75.6 kB\u001b[0m \u001b[31m7.7 MB/s\u001b[0m eta \u001b[36m0:00:00\u001b[0m\n",
            "\u001b[?25hRequirement already satisfied: pydantic<3,>=1.9.0 in /usr/local/lib/python3.10/dist-packages (from openai) (2.6.1)\n",
            "Requirement already satisfied: sniffio in /usr/local/lib/python3.10/dist-packages (from openai) (1.3.0)\n",
            "Requirement already satisfied: tqdm>4 in /usr/local/lib/python3.10/dist-packages (from openai) (4.66.2)\n",
            "Requirement already satisfied: typing-extensions<5,>=4.7 in /usr/local/lib/python3.10/dist-packages (from openai) (4.9.0)\n",
            "Requirement already satisfied: idna>=2.8 in /usr/local/lib/python3.10/dist-packages (from anyio<5,>=3.5.0->openai) (3.6)\n",
            "Requirement already satisfied: exceptiongroup in /usr/local/lib/python3.10/dist-packages (from anyio<5,>=3.5.0->openai) (1.2.0)\n",
            "Requirement already satisfied: certifi in /usr/local/lib/python3.10/dist-packages (from httpx<1,>=0.23.0->openai) (2024.2.2)\n",
            "Collecting httpcore==1.* (from httpx<1,>=0.23.0->openai)\n",
            "  Downloading httpcore-1.0.4-py3-none-any.whl (77 kB)\n",
            "\u001b[2K     \u001b[90m━━━━━━━━━━━━━━━━━━━━━━━━━━━━━━━━━━━━━━━━\u001b[0m \u001b[32m77.8/77.8 kB\u001b[0m \u001b[31m7.6 MB/s\u001b[0m eta \u001b[36m0:00:00\u001b[0m\n",
            "\u001b[?25hCollecting h11<0.15,>=0.13 (from httpcore==1.*->httpx<1,>=0.23.0->openai)\n",
            "  Downloading h11-0.14.0-py3-none-any.whl (58 kB)\n",
            "\u001b[2K     \u001b[90m━━━━━━━━━━━━━━━━━━━━━━━━━━━━━━━━━━━━━━━━\u001b[0m \u001b[32m58.3/58.3 kB\u001b[0m \u001b[31m8.0 MB/s\u001b[0m eta \u001b[36m0:00:00\u001b[0m\n",
            "\u001b[?25hRequirement already satisfied: annotated-types>=0.4.0 in /usr/local/lib/python3.10/dist-packages (from pydantic<3,>=1.9.0->openai) (0.6.0)\n",
            "Requirement already satisfied: pydantic-core==2.16.2 in /usr/local/lib/python3.10/dist-packages (from pydantic<3,>=1.9.0->openai) (2.16.2)\n",
            "Installing collected packages: h11, httpcore, httpx, openai\n",
            "Successfully installed h11-0.14.0 httpcore-1.0.4 httpx-0.27.0 openai-1.12.0\n"
          ]
        }
      ]
    },
    {
      "cell_type": "code",
      "source": [
        "import pandas as pd\n",
        "from openai import OpenAI\n",
        "from typing import List, Optional\n",
        "\n",
        "client = OpenAI()\n",
        "\n",
        "def get_embedding(text: str, model=\"text-embedding-3-small\", **kwargs) -> List[float]:\n",
        "  text = text.replace(\"\\n\", \" \")\n",
        "  response = client.embeddings.create(input=[text], model=model, **kwargs)\n",
        "  return response.data[0].embedding"
      ],
      "metadata": {
        "id": "1z_VnOL_Vj0w"
      },
      "execution_count": null,
      "outputs": []
    },
    {
      "cell_type": "code",
      "source": [
        "i_list = []\n",
        "for i in text.split(\"\\n\"):\n",
        "  i = i[11:].replace(\"　\",\"\")\n",
        "  i_list.append(i[:(i.find('['))])\n",
        "print(len(i_list))\n",
        "i_dict = {\"text\": i_list}\n",
        "df = pd.DataFrame(i_dict)\n",
        "print(df)"
      ],
      "metadata": {
        "colab": {
          "base_uri": "https://localhost:8080/"
        },
        "id": "g-95UxNpXEYj",
        "outputId": "4020b947-27a8-4fde-c09b-6ec981ff2a37"
      },
      "execution_count": null,
      "outputs": [
        {
          "output_type": "stream",
          "name": "stdout",
          "text": [
            "49\n",
            "                                                 text\n",
            "0                       日キリバスで中国警察が活動、犯罪データベース作成など支援 \n",
            "1                         日ロシアの核戦力、95％が近代化済み＝プーチン大統領 \n",
            "2                                   為ドル・円は底堅い、ユーロは軟調 \n",
            "3                         為ドル円、一時150.71円まで上昇 昨日高値上抜け \n",
            "4                     日ＥＣＢ23年決算、過去最大79億ユーロの損失 利払い膨らむ \n",
            "5                           為東京外国為替市場概況・17時 ドル円、もみ合い \n",
            "6                           為ドル・円は小じっかり、米利下げ時期後退の観測で \n",
            "7                        日中国、辰年で出生数増加 人口減少緩和も＝現地メディア \n",
            "8                          日アルメニア、ロシア主導軍事同盟への参加凍結＝首相 \n",
            "9                    為クロス円、堅調 米株先物高などでユーロ円は163.09円まで \n",
            "10                      日メキシコＧＤＰ、第4四半期0.1％増に鈍化 利下げ観測 \n",
            "11                           為東京外国為替市場概況・15時 ドル円、小幅高 \n",
            "12                  日ルネサス、仏シーカンス買収の合意書を解除－株式公開買い付け中止 \n",
            "13                為「ドル・円は伸び悩みか、米利下げ時期後ずれも日本の為替介入に警戒」 \n",
            "14                     日ＦＲＢ理事発言で利下げ時期後ずれ、ＧＳは5月予想取り下げ \n",
            "15                          日中国1月新築住宅価格、政策支援でも下落傾向続く \n",
            "16                           為ドル円、底堅い 150.50円台まで買い戻し \n",
            "17                  日利下げ急がず、2カ月は物価統計確認する必要＝ウォラーＦＲＢ理事 \n",
            "18                    日米国初の大型沖合風力発電、3万世帯に送電 さらに能力拡大へ \n",
            "19                   日ＪＥＲＡ、豪ガス田権益を約14億ドルでウッドサイドから取得へ \n",
            "20                            日米下院特別委、独ＶＷに中国・新疆撤退を要請 \n",
            "21                           為ユーロドル、1.0800ドルの攻防に要警戒か \n",
            "22                      中国 1月の新築住宅価格指数 主要都市全体の80％が下落 \n",
            "23                               為ドル・円は弱含み、中国・香港株にらみ \n",
            "24                           為東京外国為替市場概況・12時 ドル円、小幅安 \n",
            "25                      日英、新たな対ロシア制裁発表 ウクライナ侵攻から2年控え \n",
            "26                         為ユーロドル、伸び悩み 1.0825ドル付近で推移 \n",
            "27                           日米企業の無人宇宙船が月面に着陸、民間で世界初 \n",
            "28                  日オープンＡＩのアルトマン氏、ＩＰＯ目指すレディット大株主と判明 \n",
            "29           為ドル円、再び下落 FRB理事の発言に対する反応一巡で150.38円まで下押し \n",
            "30                          為東京外国為替市場概況・10時 ドル円、戻り鈍い \n",
            "31                 為ドル円 150.50円台を回復、ウォラーFRB理事のタカ派発言で \n",
            "32                          22日のNY市場は大幅上昇 - 最新株式ニュース \n",
            "33                 日アングル：カナダ首相が移民受け入れにブレーキ、住宅逼迫で世論激変 \n",
            "34                    為NY円、続落 1ドル=150円45〜55銭 日米株高が重荷 \n",
            "35                   米米国株式市場＝Ｓ＆Ｐとダウ最高値、好業績のエヌビディアが急伸 \n",
            "36                      NYダウ 初めて3万9000ドル超える 史上最高値を更新 \n",
            "37              債NY債券、長期債横ばい 10年債利回り4.32% 米ハイテク株高は重荷 \n",
            "38               日【米国市況】株価指数は最高値､ＡＩ旋風が地球一周－ドル150円台半ば \n",
            "39                        米〔表〕ＮＹ外為市場＝対ドル／各国通貨相場（22日） \n",
            "40                                    シカゴ日本株先物概況・22日 \n",
            "41                              本日のスケジュール - 最新株式ニュース \n",
            "42                   日経平均先物、夜間取引で上昇 330円高の3万9450円で終了 \n",
            "43                    株価 今後も上昇続くのか 企業が株価に見合う成長できるか焦点 \n",
            "44            米米国株15時、ダウ続伸 エヌビディア急伸、ハイテクに買い ナスダック3%高 \n",
            "45                米ドイツ株22日 続伸 連日で最高値 自動車やテクノロジー関連に買い \n",
            "46                             米ロンドン株22日 反発 好決算銘柄に買い \n",
            "47               為欧州国債概況22日 独10年債利回り、小幅低下 独2年債利回りは上昇 \n",
            "48  ECB高官、BTCの価値や米国当局のETF承認を批判【フィスコ・暗号資産速報】 - 最新株式...\n"
          ]
        }
      ]
    },
    {
      "cell_type": "code",
      "source": [
        "embedding_model = \"text-embedding-3-large\"\n",
        "df[\"embedding\"] = df[\"text\"].apply(lambda x: get_embedding(x, model=embedding_model))\n",
        "print(df)"
      ],
      "metadata": {
        "colab": {
          "base_uri": "https://localhost:8080/"
        },
        "id": "eF8PUStNVAqM",
        "outputId": "654a8b00-542c-4fc5-b029-797a9406e916"
      },
      "execution_count": null,
      "outputs": [
        {
          "output_type": "stream",
          "name": "stdout",
          "text": [
            "                                                 text  \\\n",
            "0                       日キリバスで中国警察が活動、犯罪データベース作成など支援    \n",
            "1                         日ロシアの核戦力、95％が近代化済み＝プーチン大統領    \n",
            "2                                   為ドル・円は底堅い、ユーロは軟調    \n",
            "3                         為ドル円、一時150.71円まで上昇 昨日高値上抜け    \n",
            "4                     日ＥＣＢ23年決算、過去最大79億ユーロの損失 利払い膨らむ    \n",
            "5                           為東京外国為替市場概況・17時 ドル円、もみ合い    \n",
            "6                           為ドル・円は小じっかり、米利下げ時期後退の観測で    \n",
            "7                        日中国、辰年で出生数増加 人口減少緩和も＝現地メディア    \n",
            "8                          日アルメニア、ロシア主導軍事同盟への参加凍結＝首相    \n",
            "9                    為クロス円、堅調 米株先物高などでユーロ円は163.09円まで    \n",
            "10                      日メキシコＧＤＰ、第4四半期0.1％増に鈍化 利下げ観測    \n",
            "11                           為東京外国為替市場概況・15時 ドル円、小幅高    \n",
            "12                  日ルネサス、仏シーカンス買収の合意書を解除－株式公開買い付け中止    \n",
            "13                為「ドル・円は伸び悩みか、米利下げ時期後ずれも日本の為替介入に警戒」    \n",
            "14                     日ＦＲＢ理事発言で利下げ時期後ずれ、ＧＳは5月予想取り下げ    \n",
            "15                          日中国1月新築住宅価格、政策支援でも下落傾向続く    \n",
            "16                           為ドル円、底堅い 150.50円台まで買い戻し    \n",
            "17                  日利下げ急がず、2カ月は物価統計確認する必要＝ウォラーＦＲＢ理事    \n",
            "18                    日米国初の大型沖合風力発電、3万世帯に送電 さらに能力拡大へ    \n",
            "19                   日ＪＥＲＡ、豪ガス田権益を約14億ドルでウッドサイドから取得へ    \n",
            "20                            日米下院特別委、独ＶＷに中国・新疆撤退を要請    \n",
            "21                           為ユーロドル、1.0800ドルの攻防に要警戒か    \n",
            "22                      中国 1月の新築住宅価格指数 主要都市全体の80％が下落    \n",
            "23                               為ドル・円は弱含み、中国・香港株にらみ    \n",
            "24                           為東京外国為替市場概況・12時 ドル円、小幅安    \n",
            "25                      日英、新たな対ロシア制裁発表 ウクライナ侵攻から2年控え    \n",
            "26                         為ユーロドル、伸び悩み 1.0825ドル付近で推移    \n",
            "27                           日米企業の無人宇宙船が月面に着陸、民間で世界初    \n",
            "28                  日オープンＡＩのアルトマン氏、ＩＰＯ目指すレディット大株主と判明    \n",
            "29           為ドル円、再び下落 FRB理事の発言に対する反応一巡で150.38円まで下押し    \n",
            "30                          為東京外国為替市場概況・10時 ドル円、戻り鈍い    \n",
            "31                 為ドル円 150.50円台を回復、ウォラーFRB理事のタカ派発言で    \n",
            "32                          22日のNY市場は大幅上昇 - 最新株式ニュース    \n",
            "33                 日アングル：カナダ首相が移民受け入れにブレーキ、住宅逼迫で世論激変    \n",
            "34                    為NY円、続落 1ドル=150円45〜55銭 日米株高が重荷    \n",
            "35                   米米国株式市場＝Ｓ＆Ｐとダウ最高値、好業績のエヌビディアが急伸    \n",
            "36                      NYダウ 初めて3万9000ドル超える 史上最高値を更新    \n",
            "37              債NY債券、長期債横ばい 10年債利回り4.32% 米ハイテク株高は重荷    \n",
            "38               日【米国市況】株価指数は最高値､ＡＩ旋風が地球一周－ドル150円台半ば    \n",
            "39                        米〔表〕ＮＹ外為市場＝対ドル／各国通貨相場（22日）    \n",
            "40                                    シカゴ日本株先物概況・22日    \n",
            "41                              本日のスケジュール - 最新株式ニュース    \n",
            "42                   日経平均先物、夜間取引で上昇 330円高の3万9450円で終了    \n",
            "43                    株価 今後も上昇続くのか 企業が株価に見合う成長できるか焦点    \n",
            "44            米米国株15時、ダウ続伸 エヌビディア急伸、ハイテクに買い ナスダック3%高    \n",
            "45                米ドイツ株22日 続伸 連日で最高値 自動車やテクノロジー関連に買い    \n",
            "46                             米ロンドン株22日 反発 好決算銘柄に買い    \n",
            "47               為欧州国債概況22日 独10年債利回り、小幅低下 独2年債利回りは上昇    \n",
            "48  ECB高官、BTCの価値や米国当局のETF承認を批判【フィスコ・暗号資産速報】 - 最新株式...   \n",
            "\n",
            "                                            embedding  \n",
            "0   [0.009445552714169025, -0.010991544462740421, ...  \n",
            "1   [-0.023955384269356728, -0.017260070890188217,...  \n",
            "2   [-0.009572861716151237, -0.023674560710787773,...  \n",
            "3   [-0.004935571923851967, -0.03101029247045517, ...  \n",
            "4   [0.005827050190418959, -0.014722311869263649, ...  \n",
            "5   [-0.017678145319223404, -0.029128484427928925,...  \n",
            "6   [0.011845262721180916, -0.03613121807575226, 0...  \n",
            "7   [-0.009323099628090858, -0.0006358258542604744...  \n",
            "8   [-0.0370255708694458, -0.03283543512225151, -0...  \n",
            "9   [-0.0007319711148738861, -0.041443489491939545...  \n",
            "10  [-0.0054322220385074615, -0.006082180421799421...  \n",
            "11  [-0.008630124852061272, -0.011030715890228748,...  \n",
            "12  [0.0025492855347692966, -0.021399449557065964,...  \n",
            "13  [0.0031934259459376335, -0.043234072625637054,...  \n",
            "14  [0.028643956407904625, -0.053166478872299194, ...  \n",
            "15  [-0.048107046633958817, -0.04272063821554184, ...  \n",
            "16  [-0.008514807559549809, -0.02413332834839821, ...  \n",
            "17  [-0.0047736577689647675, -0.05698080733418465,...  \n",
            "18  [0.008219132199883461, -0.02284417673945427, 0...  \n",
            "19  [-0.0021599866449832916, 0.02524193748831749, ...  \n",
            "20  [0.009675076231360435, -0.026979804039001465, ...  \n",
            "21  [-0.0241110660135746, -0.03582215681672096, -0...  \n",
            "22  [-0.05009882524609566, -0.023396765813231468, ...  \n",
            "23  [-0.024846656247973442, -0.04326657950878143, ...  \n",
            "24  [-0.01308723259717226, -0.0060986001044511795,...  \n",
            "25  [-0.036854177713394165, -0.03384922072291374, ...  \n",
            "26  [-0.012109554372727871, -0.005116522777825594,...  \n",
            "27  [0.014179438352584839, -0.01111092884093523, 0...  \n",
            "28  [0.02754039317369461, -0.03998899087309837, -0...  \n",
            "29  [-0.017984800040721893, -0.04329978674650192, ...  \n",
            "30  [-0.01983151026070118, -0.023563450202345848, ...  \n",
            "31  [-0.006631327793002129, -0.05050675943493843, ...  \n",
            "32  [0.013252166099846363, -0.026007376611232758, ...  \n",
            "33  [-0.010446570813655853, -0.0013681638520210981...  \n",
            "34  [-0.012803100049495697, -0.040294647216796875,...  \n",
            "35  [0.0029156161472201347, -0.006086614914238453,...  \n",
            "36  [0.001703946036286652, -0.05279486998915672, -...  \n",
            "37  [-0.0008469766471534967, -0.015163494274020195...  \n",
            "38  [-0.019533153623342514, -0.022091971710324287,...  \n",
            "39  [0.003253390546888113, -0.0438060387969017, -0...  \n",
            "40  [0.024629853665828705, -0.04541675001382828, 0...  \n",
            "41  [0.022366859018802643, -0.020417332649230957, ...  \n",
            "42  [0.01992422714829445, -0.039031047374010086, 3...  \n",
            "43  [-0.012336491607129574, -0.04164111614227295, ...  \n",
            "44  [0.0030634822323918343, -0.004553463775664568,...  \n",
            "45  [0.030048463493585587, -0.010271420702338219, ...  \n",
            "46  [0.018827000632882118, -0.010540865361690521, ...  \n",
            "47  [0.019645852968096733, 0.024800635874271393, -...  \n",
            "48  [-0.008384088054299355, -0.01907714270055294, ...  \n"
          ]
        }
      ]
    },
    {
      "cell_type": "code",
      "source": [
        "import numpy as np\n",
        "\n",
        "matrix = np.vstack(df.embedding.values)\n",
        "matrix.shape"
      ],
      "metadata": {
        "colab": {
          "base_uri": "https://localhost:8080/"
        },
        "id": "tkVC1DNmYW5u",
        "outputId": "62334110-b77a-40a2-dabc-75dfdf37ab02"
      },
      "execution_count": null,
      "outputs": [
        {
          "output_type": "execute_result",
          "data": {
            "text/plain": [
              "(49, 3072)"
            ]
          },
          "metadata": {},
          "execution_count": 18
        }
      ]
    },
    {
      "cell_type": "code",
      "source": [
        "from sklearn.cluster import KMeans\n",
        "\n",
        "n_clusters = 3\n",
        "\n",
        "kmeans = KMeans(n_clusters=n_clusters, init=\"k-means++\", random_state=42)\n",
        "kmeans.fit(matrix)\n",
        "labels = kmeans.labels_\n",
        "df[\"Cluster\"] = labels"
      ],
      "metadata": {
        "colab": {
          "base_uri": "https://localhost:8080/"
        },
        "id": "JBpNMRE4Yoa0",
        "outputId": "479f7031-0fff-43a2-ee3b-1aba29fe1b7a"
      },
      "execution_count": null,
      "outputs": [
        {
          "output_type": "stream",
          "name": "stderr",
          "text": [
            "/usr/local/lib/python3.10/dist-packages/sklearn/cluster/_kmeans.py:870: FutureWarning: The default value of `n_init` will change from 10 to 'auto' in 1.4. Set the value of `n_init` explicitly to suppress the warning\n",
            "  warnings.warn(\n"
          ]
        }
      ]
    },
    {
      "cell_type": "code",
      "source": [
        "from sklearn.manifold import TSNE\n",
        "import matplotlib\n",
        "import matplotlib.pyplot as plt\n",
        "\n",
        "tsne = TSNE(n_components=2, perplexity=15, random_state=42, init=\"random\", learning_rate=100)\n",
        "vis_dims2 = tsne.fit_transform(matrix)\n",
        "\n",
        "x = [x for x, y in vis_dims2]\n",
        "y = [y for x, y in vis_dims2]\n",
        "\n",
        "for category, color in enumerate([\"purple\", \"green\", \"red\"]):\n",
        "    xs = np.array(x)[df.Cluster == category]\n",
        "    ys = np.array(y)[df.Cluster == category]\n",
        "    plt.scatter(xs, ys, color=color, alpha=0.3)\n",
        "\n",
        "    avg_x = xs.mean()\n",
        "    avg_y = ys.mean()\n",
        "\n",
        "    plt.scatter(avg_x, avg_y, marker=\"x\", color=color, s=100)\n",
        "plt.title(\"Clusters identified visualized in language 2d using t-SNE\")"
      ],
      "metadata": {
        "colab": {
          "base_uri": "https://localhost:8080/",
          "height": 574
        },
        "id": "RoyB9n9CYxTo",
        "outputId": "bf4b43c6-bd0f-4049-b35f-7fb7515781d4"
      },
      "execution_count": null,
      "outputs": [
        {
          "output_type": "stream",
          "name": "stderr",
          "text": [
            "<ipython-input-40-d137097df0fc>:16: RuntimeWarning: Mean of empty slice.\n",
            "  avg_x = xs.mean()\n",
            "/usr/local/lib/python3.10/dist-packages/numpy/core/_methods.py:129: RuntimeWarning: invalid value encountered in divide\n",
            "  ret = ret.dtype.type(ret / rcount)\n",
            "<ipython-input-40-d137097df0fc>:17: RuntimeWarning: Mean of empty slice.\n",
            "  avg_y = ys.mean()\n"
          ]
        },
        {
          "output_type": "execute_result",
          "data": {
            "text/plain": [
              "Text(0.5, 1.0, 'Clusters identified visualized in language 2d using t-SNE')"
            ]
          },
          "metadata": {},
          "execution_count": 40
        },
        {
          "output_type": "display_data",
          "data": {
            "text/plain": [
              "<Figure size 640x480 with 1 Axes>"
            ],
            "image/png": "[encoded data removed]"
          },
          "metadata": {}
        }
      ]
    },
    {
      "cell_type": "code",
      "source": [
        "rev_per_cluster = 10\n",
        "for j in range(n_clusters):\n",
        "  print(j)\n",
        "  sample_cluster_rows = df[df.Cluster == j]\n",
        "  for k in range(rev_per_cluster):\n",
        "    print(sample_cluster_rows.text.values[k])"
      ],
      "metadata": {
        "colab": {
          "base_uri": "https://localhost:8080/"
        },
        "id": "A5oW1m-dZHCT",
        "outputId": "06a2f233-8885-4e06-b20f-96521a1ea9c4"
      },
      "execution_count": null,
      "outputs": [
        {
          "output_type": "stream",
          "name": "stdout",
          "text": [
            "0\n",
            "為ドル・円は底堅い、ユーロは軟調 \n",
            "為ドル円、一時150.71円まで上昇 昨日高値上抜け \n",
            "為東京外国為替市場概況・17時 ドル円、もみ合い \n",
            "為ドル・円は小じっかり、米利下げ時期後退の観測で \n",
            "為クロス円、堅調 米株先物高などでユーロ円は163.09円まで \n",
            "為東京外国為替市場概況・15時 ドル円、小幅高 \n",
            "為「ドル・円は伸び悩みか、米利下げ時期後ずれも日本の為替介入に警戒」 \n",
            "為ドル円、底堅い 150.50円台まで買い戻し \n",
            "為ユーロドル、1.0800ドルの攻防に要警戒か \n",
            "為ドル・円は弱含み、中国・香港株にらみ \n",
            "1\n",
            "日キリバスで中国警察が活動、犯罪データベース作成など支援 \n",
            "日ロシアの核戦力、95％が近代化済み＝プーチン大統領 \n",
            "日ＥＣＢ23年決算、過去最大79億ユーロの損失 利払い膨らむ \n",
            "日中国、辰年で出生数増加 人口減少緩和も＝現地メディア \n",
            "日アルメニア、ロシア主導軍事同盟への参加凍結＝首相 \n",
            "日メキシコＧＤＰ、第4四半期0.1％増に鈍化 利下げ観測 \n",
            "日ＦＲＢ理事発言で利下げ時期後ずれ、ＧＳは5月予想取り下げ \n",
            "日中国1月新築住宅価格、政策支援でも下落傾向続く \n",
            "日利下げ急がず、2カ月は物価統計確認する必要＝ウォラーＦＲＢ理事 \n",
            "日米下院特別委、独ＶＷに中国・新疆撤退を要請 \n",
            "2\n",
            "日ルネサス、仏シーカンス買収の合意書を解除－株式公開買い付け中止 \n",
            "日米国初の大型沖合風力発電、3万世帯に送電 さらに能力拡大へ \n",
            "日ＪＥＲＡ、豪ガス田権益を約14億ドルでウッドサイドから取得へ \n",
            "日米企業の無人宇宙船が月面に着陸、民間で世界初 \n",
            "日オープンＡＩのアルトマン氏、ＩＰＯ目指すレディット大株主と判明 \n",
            "22日のNY市場は大幅上昇 - 最新株式ニュース \n",
            "米米国株式市場＝Ｓ＆Ｐとダウ最高値、好業績のエヌビディアが急伸 \n",
            "NYダウ 初めて3万9000ドル超える 史上最高値を更新 \n",
            "債NY債券、長期債横ばい 10年債利回り4.32% 米ハイテク株高は重荷 \n",
            "日【米国市況】株価指数は最高値､ＡＩ旋風が地球一周－ドル150円台半ば \n"
          ]
        }
      ]
    }
  ]
}